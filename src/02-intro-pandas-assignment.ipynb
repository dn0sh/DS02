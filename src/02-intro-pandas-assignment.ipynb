{
 "cells": [
  {
   "cell_type": "markdown",
   "metadata": {},
   "source": [
    "# Задание"
   ]
  },
  {
   "cell_type": "code",
   "execution_count": 1,
   "metadata": {
    "ExecuteTime": {
     "end_time": "2023-05-06T00:45:31.370495Z",
     "start_time": "2023-05-06T00:45:30.702839Z"
    }
   },
   "outputs": [
    {
     "name": "stderr",
     "output_type": "stream",
     "text": [
      "D:\\Temp\\ipykernel_21368\\4092154101.py:2: DtypeWarning: Columns (0,15,43,57,73,88,104,118,126,132,170,200,208,215,225,248,255,257,260,270,271,272,277,281,294) have mixed types. Specify dtype option on import or set low_memory=False.\n",
      "  data = pd.read_csv('../datasets/kaggle_survey_2022_responses.csv')\n"
     ]
    }
   ],
   "source": [
    "import pandas as pd\n",
    "data = pd.read_csv('../datasets/kaggle_survey_2022_responses.csv')"
   ]
  },
  {
   "cell_type": "markdown",
   "metadata": {},
   "source": [
    "## Task 1"
   ]
  },
  {
   "cell_type": "markdown",
   "metadata": {},
   "source": [
    "Узнай самый часто встречаемый возраст респондентов"
   ]
  },
  {
   "cell_type": "code",
   "execution_count": 2,
   "metadata": {
    "ExecuteTime": {
     "end_time": "2023-05-06T00:45:36.767946Z",
     "start_time": "2023-05-06T00:45:36.758276Z"
    }
   },
   "outputs": [
    {
     "data": {
      "text/plain": [
       "'18-21'"
      ]
     },
     "execution_count": 2,
     "metadata": {},
     "output_type": "execute_result"
    }
   ],
   "source": [
    "data['Q2'].value_counts().idxmax()"
   ]
  },
  {
   "cell_type": "markdown",
   "metadata": {},
   "source": [
    "## Task 2"
   ]
  },
  {
   "cell_type": "markdown",
   "metadata": {},
   "source": [
    "Посчитай долю женщин среди русских участников опроса, которые уже не студенты. Результат округли до двух цифр после запятой"
   ]
  },
  {
   "cell_type": "code",
   "execution_count": 3,
   "metadata": {
    "ExecuteTime": {
     "end_time": "2023-05-06T00:45:40.723091Z",
     "start_time": "2023-05-06T00:45:40.663583Z"
    }
   },
   "outputs": [
    {
     "data": {
      "text/plain": [
       "0.24"
      ]
     },
     "execution_count": 3,
     "metadata": {},
     "output_type": "execute_result"
    }
   ],
   "source": [
    "rus_no_student = data[(data['Q4'].str.contains('Russia')) & data['Q5'].str.contains('No')].shape\n",
    "rus_no_student_women = data[data['Q3'].str.contains('Woman') & data['Q4'].str.contains('Russia') & data['Q5'].str.contains('No')].shape\n",
    "round(rus_no_student_women[0] / rus_no_student[0], 2)"
   ]
  },
  {
   "cell_type": "markdown",
   "metadata": {},
   "source": [
    "## Task 3"
   ]
  },
  {
   "cell_type": "markdown",
   "metadata": {},
   "source": [
    "Найди среднее время заполнения опроса в **минутах**. Результат округли до двух знаков после запятой"
   ]
  },
  {
   "cell_type": "code",
   "execution_count": 4,
   "metadata": {
    "ExecuteTime": {
     "end_time": "2023-05-06T00:45:44.108652Z",
     "start_time": "2023-05-06T00:45:44.054780Z"
    }
   },
   "outputs": [
    {
     "data": {
      "text/plain": [
       "168.17"
      ]
     },
     "execution_count": 4,
     "metadata": {},
     "output_type": "execute_result"
    }
   ],
   "source": [
    "data.drop(0, inplace=True)\n",
    "data['Duration (in seconds)'] = data['Duration (in seconds)'].astype(int)\n",
    "round(data['Duration (in seconds)'].mean() / 60, 2)"
   ]
  },
  {
   "cell_type": "markdown",
   "metadata": {},
   "source": [
    "## Task 4"
   ]
  },
  {
   "cell_type": "markdown",
   "metadata": {},
   "source": [
    "Выведи топ-3 образовательных курса, которые указали респонденты. P.S Это вопрос Q6"
   ]
  },
  {
   "cell_type": "code",
   "execution_count": 5,
   "metadata": {
    "ExecuteTime": {
     "end_time": "2023-05-06T00:45:48.768615Z",
     "start_time": "2023-05-06T00:45:48.734385Z"
    }
   },
   "outputs": [
    {
     "name": "stdout",
     "output_type": "stream",
     "text": [
      "Топ-3 образовательных курса:\n",
      "1. Coursera (9699)\n",
      "2. University Courses (resulting in a university degree) (6780)\n",
      "3. Kaggle Learn Courses (6628)\n"
     ]
    }
   ],
   "source": [
    "# создаём список колонок начинающихся с 'Q6'\n",
    "q6_columns = [col for col in data.columns if col.startswith('Q6')]\n",
    "# объединяем данные всех колононок в одну\n",
    "courses = data[q6_columns].melt(var_name='all_Q6', value_vars=q6_columns)\n",
    "# подсчитываем количество каждого уникального значения, выбираем топ 3, преобразуем в словарь\n",
    "courses_top3_dict = courses['value'].value_counts().iloc[:3].to_dict()\n",
    "print(\"Топ-3 образовательных курса:\")\n",
    "for i, (courses, count) in enumerate(courses_top3_dict.items(), 1):\n",
    "    print(f\"{i}. {courses} ({count})\")"
   ]
  },
  {
   "cell_type": "markdown",
   "metadata": {},
   "source": [
    "## Task 5"
   ]
  },
  {
   "cell_type": "markdown",
   "metadata": {},
   "source": [
    "Узнай топ-5 языков программирования, которые регулярно используют Data Scientists в своей работе"
   ]
  },
  {
   "cell_type": "code",
   "execution_count": 6,
   "metadata": {
    "ExecuteTime": {
     "end_time": "2023-05-06T00:45:53.177794Z",
     "start_time": "2023-05-06T00:45:53.134855Z"
    },
    "scrolled": true
   },
   "outputs": [
    {
     "name": "stdout",
     "output_type": "stream",
     "text": [
      "Топ-5 языков программирования, которые регулярно используют Data Scientists в своей работе:\n",
      "1. Python (1808)\n",
      "2. SQL (1140)\n",
      "3. R (530)\n",
      "4. Bash (248)\n",
      "5. Javascript (187)\n"
     ]
    }
   ],
   "source": [
    "# выбираем только строки со значением 'Data Scientist' в колонке 'Q23'\n",
    "ds_data = data[data['Q23'] == 'Data Scientist']\n",
    "# создаём список колонок начинающихся с 'Q12'\n",
    "q12_columns = [col for col in ds_data.columns if col.startswith('Q12')]\n",
    "# объединяем данные всех колононок в одну\n",
    "programming_languages = ds_data[q12_columns].melt(var_name='all_Q12', value_vars=q12_columns)\n",
    "# подсчитываем количество каждого уникального значения, выбираем топ 5, преобразуем в словарь\n",
    "programming_languages_top5_dict = programming_languages['value'].value_counts().iloc[:5].to_dict()\n",
    "print(\"Топ-5 языков программирования, которые регулярно используют Data Scientists в своей работе:\")\n",
    "for i, (programming_languages, count) in enumerate(programming_languages_top5_dict.items(), 1):\n",
    "    print(f\"{i}. {programming_languages} ({count})\")"
   ]
  },
  {
   "cell_type": "markdown",
   "metadata": {},
   "source": [
    "## Task 6"
   ]
  },
  {
   "cell_type": "markdown",
   "metadata": {},
   "source": [
    "Узнай средний доход среди 'Data Scientist' специалистов и средний доход среди 'Machine Learning/ MLops Engineer' \\\n",
    "Т.к. в колонке Q29 указан промежуток, то возьми среднее значение из промежутка. \n",
    "\n",
    "Например: \n",
    "- '15,000-19,999' - 17500, \n",
    "- '125,000-149,999' - 137500. \n",
    "- \\> $1,000,000 - оставляем 1000000\n",
    "\n",
    "Средние доход **округли до целого.**"
   ]
  },
  {
   "cell_type": "code",
   "execution_count": 7,
   "metadata": {
    "ExecuteTime": {
     "end_time": "2023-05-06T00:46:00.730514Z",
     "start_time": "2023-05-06T00:46:00.695605Z"
    }
   },
   "outputs": [
    {
     "name": "stdout",
     "output_type": "stream",
     "text": [
      "Средний доход для Data Scientist: 70337 $USD\n",
      "Средний доход для Machine Learning/ MLops Engineer: 67437 $USD\n"
     ]
    }
   ],
   "source": [
    "# словарь специальностей\n",
    "job_titles = {\n",
    "    'DS': 'Data Scientist',\n",
    "    'ML': 'Machine Learning/ MLops Engineer',\n",
    "}\n",
    "# словарь средних зарплат\n",
    "avg_salaries = {}\n",
    "# вычисляем среднюю зарплату для каждой специальности\n",
    "for job_title in job_titles.values():\n",
    "    # фильтруем данные по специальности\n",
    "    ds_data = data[data['Q23'] == job_title]\n",
    "    # получаем список диапазонов зарплат, удаляя лишние символы, лишние строки\n",
    "    salary_range = [s.replace('$', '').replace(',', '').replace('>', '') for s in ds_data['Q29'].dropna().values.tolist()]\n",
    "    # вычисляем среднюю зарплату для специальности используя генератор списка, суммируя все элементы списка (усредняя, если они в промежутке)\n",
    "    avg_salaries[job_title] = round(sum([int(s.split('-')[0]) if len(s.split('-')) == 1 else (int(s.split('-')[0]) + int(s.split('-')[1])) / 2 for s in salary_range]) / len(salary_range))\n",
    "\n",
    "for job_title, avg_salary in avg_salaries.items():\n",
    "    print(f'Средний доход для {job_title}: {avg_salary} $USD')"
   ]
  },
  {
   "cell_type": "markdown",
   "metadata": {},
   "source": [
    "## Дополнительно"
   ]
  },
  {
   "cell_type": "markdown",
   "metadata": {},
   "source": [
    "Найди какой-нибудь интересный инсайт из этих данных. Пиши свои интересные инсайты в чат проекта с хэштегом.\n",
    "#инсайт\n",
    "\n",
    "Автор самого интересного инсайта получит p2p баллы. Поверь, они тебе понадобятся"
   ]
  },
  {
   "cell_type": "code",
   "execution_count": 8,
   "metadata": {
    "ExecuteTime": {
     "end_time": "2023-05-06T00:46:05.982671Z",
     "start_time": "2023-05-06T00:46:05.942610Z"
    }
   },
   "outputs": [
    {
     "name": "stdout",
     "output_type": "stream",
     "text": [
      "Количество респондентов, использующих методы машинного обучения более 10 лет (по странам):\n",
      " Россия: 1 чел.\n",
      "\n",
      "Остальные страны:\n",
      "  United States of America: 157 чел.\n",
      "  India: 48 чел.\n",
      "  Other: 41 чел.\n",
      "  Brazil: 30 чел.\n",
      "  France: 17 чел.\n",
      "  United Kingdom of Great Britain and Northern Ireland: 16 чел.\n",
      "  Spain: 14 чел.\n",
      "  Japan: 12 чел.\n",
      "  Portugal: 10 чел.\n",
      "  Netherlands: 10 чел.\n",
      "  Germany: 9 чел.\n",
      "  Italy: 9 чел.\n",
      "  Poland: 8 чел.\n",
      "  Canada: 8 чел.\n",
      "  Turkey: 8 чел.\n",
      "  Australia: 8 чел.\n",
      "  Mexico: 7 чел.\n",
      "  Czech Republic: 6 чел.\n",
      "  Belgium: 5 чел.\n",
      "  South Korea: 5 чел.\n",
      "  Singapore: 4 чел.\n",
      "  Israel: 4 чел.\n",
      "  Taiwan: 4 чел.\n",
      "  Pakistan: 4 чел.\n",
      "  China: 4 чел.\n",
      "  Morocco: 3 чел.\n",
      "  Romania: 3 чел.\n",
      "  Indonesia: 3 чел.\n",
      "  Egypt: 3 чел.\n",
      "  Peru: 3 чел.\n",
      "  Ireland: 2 чел.\n",
      "  Nepal: 2 чел.\n",
      "  United Arab Emirates: 2 чел.\n",
      "  Thailand: 2 чел.\n",
      "  South Africa: 2 чел.\n",
      "  Colombia: 2 чел.\n",
      "  Argentina: 2 чел.\n",
      "  Chile: 2 чел.\n",
      "  Bangladesh: 1 чел.\n",
      "  Iran, Islamic Republic of...: 1 чел.\n",
      "  Saudi Arabia: 1 чел.\n",
      "  Sri Lanka: 1 чел.\n",
      "  Viet Nam: 1 чел.\n",
      "  Ukraine: 1 чел.\n"
     ]
    }
   ],
   "source": [
    "# выбираем данные для 10 лет и более\n",
    "data_10 = data[(data['Q16'] == '10-20 years') | (data['Q16'] == '20 or more years')]\n",
    "# выбираем данные для России и для всех остальных стран\n",
    "data_russia = data_10.query('Q4 == \"Russia\"')\n",
    "data_other = data_10.query('Q4 != \"Russia\"')\n",
    "# считаем количество респондентов в России и остальных странах\n",
    "russia_count = len(data_russia)\n",
    "other_count = len(data_other)\n",
    "print('Количество респондентов, использующих методы машинного обучения более 10 лет (по странам):')\n",
    "print(' Россия: {} чел.'.format(russia_count))\n",
    "print('\\nОстальные страны:')\n",
    "other_counts = data_other['Q4'].value_counts().sort_values(ascending=False)\n",
    "for country, count in other_counts.items():\n",
    "    print('  {}: {} чел.'.format(country, count))"
   ]
  },
  {
   "cell_type": "code",
   "execution_count": null,
   "metadata": {},
   "outputs": [],
   "source": []
  }
 ],
 "metadata": {
  "kernelspec": {
   "display_name": "Python 3 (ipykernel)",
   "language": "python",
   "name": "python3"
  },
  "language_info": {
   "codemirror_mode": {
    "name": "ipython",
    "version": 3
   },
   "file_extension": ".py",
   "mimetype": "text/x-python",
   "name": "python",
   "nbconvert_exporter": "python",
   "pygments_lexer": "ipython3",
   "version": "3.11.0"
  },
  "nbTranslate": {
   "displayLangs": [
    "*"
   ],
   "hotkey": "alt-t",
   "langInMainMenu": true,
   "sourceLang": "en",
   "targetLang": "fr",
   "useGoogleTranslate": true
  },
  "toc": {
   "base_numbering": 1,
   "nav_menu": {},
   "number_sections": true,
   "sideBar": true,
   "skip_h1_title": false,
   "title_cell": "Table of Contents",
   "title_sidebar": "Contents",
   "toc_cell": false,
   "toc_position": {},
   "toc_section_display": true,
   "toc_window_display": false
  }
 },
 "nbformat": 4,
 "nbformat_minor": 4
}
